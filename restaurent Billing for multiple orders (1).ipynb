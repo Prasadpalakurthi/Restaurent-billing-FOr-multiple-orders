{
 "cells": [
  {
   "cell_type": "code",
   "execution_count": 1,
   "id": "e8e5d7db-81bf-4eb1-9e55-09c77b3eaf12",
   "metadata": {},
   "outputs": [
    {
     "name": "stdout",
     "output_type": "stream",
     "text": [
      "Menu:\n",
      "Chicken Biryani: Rs. 220\n",
      "Mutton Biryani: Rs. 390\n",
      "Paneer Tikka: Rs. 280\n",
      "Veg Biryani: Rs. 180\n",
      "Fish Biryani: Rs. 250\n",
      "Prawns Biryani: Rs. 290\n",
      "Water Bottle: Rs. 22\n"
     ]
    },
    {
     "name": "stdin",
     "output_type": "stream",
     "text": [
      "\n",
      "How many different items would you like to order?  1\n",
      "\n",
      "Enter item name from the menu:  Water Bottle\n",
      "Enter quantity for Water Bottle:  2\n"
     ]
    },
    {
     "name": "stdout",
     "output_type": "stream",
     "text": [
      "\n",
      "------ Bill from Prasad Restaurant ------\n",
      "\n",
      "Item: Water Bottle\n",
      "Quantity: 2\n",
      "Price per unit: Rs. 22\n",
      "Amount (excl. GST & CGST): Rs. 44\n",
      "GST (0.18%): Rs. 7.92\n",
      "CGST (0.09%): Rs. 3.96\n",
      "\n",
      "Total order amount (incl. GST & CGST): Rs. 55.88\n",
      "Restaurant Name: Prasad Restaurant\n",
      "Restaurant Address: HITECH CITY\n",
      "------------------\n"
     ]
    }
   ],
   "source": [
    "def calculate_tax(amount, rate):\n",
    "    return amount * rate\n",
    "\n",
    "def calculate_total(amount):\n",
    "    gst = calculate_tax(amount, 0.18)\n",
    "    cgst = calculate_tax(amount, 0.09)\n",
    "    return amount + gst + cgst\n",
    "\n",
    "def generate_bill(order, restaurant_name, restaurant_address):\n",
    "    total_order_amount = 0\n",
    "\n",
    "    print(\"\\n------ Bill from\", restaurant_name, \"------\")\n",
    "    \n",
    "    # Iterate through each item in the order\n",
    "    for item, quantity, price_per_unit in order:\n",
    "        amount = quantity * price_per_unit\n",
    "        total_amount = calculate_total(amount)\n",
    "        total_order_amount += total_amount\n",
    "        \n",
    "        # Display details for each item\n",
    "        print(\"\\nItem:\", item)\n",
    "        print(\"Quantity:\", quantity)\n",
    "        print(\"Price per unit: Rs.\", price_per_unit)\n",
    "        print(\"Amount (excl. GST & CGST): Rs.\", amount)\n",
    "        print(\"GST (0.18%): Rs.\", calculate_tax(amount, 0.18))\n",
    "        print(\"CGST (0.09%): Rs.\", calculate_tax(amount, 0.09))\n",
    "        #print(\"Total amount (incl. GST & CGST): Rs.\", total_amount)\n",
    "\n",
    "    print(\"\\nTotal order amount (incl. GST & CGST): Rs.\", total_order_amount)\n",
    "    print(\"Restaurant Name:\", restaurant_name)\n",
    "    print(\"Restaurant Address:\", restaurant_address)\n",
    "    print(\"------------------\")\n",
    "\n",
    "# Example usage\n",
    "if __name__ == \"__main__\":\n",
    "    # Define the menu\n",
    "    menu = {\n",
    "        \"Chicken Biryani\": 220,\n",
    "        \"Mutton Biryani\": 390,\n",
    "        \"Paneer Tikka\": 280,\n",
    "        \"Veg Biryani\": 180,\n",
    "        \"Fish Biryani\": 250,\n",
    "        \"Prawns Biryani\": 290,\n",
    "        \"Water Bottle\": 22\n",
    "    }\n",
    "\n",
    "    # Restaurant details\n",
    "    restaurant_name = \"Prasad Restaurant\"\n",
    "    restaurant_address = \"HITECH CITY\"\n",
    "\n",
    "    # Display the menu\n",
    "    print(\"Menu:\")\n",
    "    for item, price in menu.items():\n",
    "        print(f\"{item}: Rs. {price}\")\n",
    "\n",
    "    # Create an order list\n",
    "    order = []\n",
    "\n",
    "    # Ask the user how many items they want to order\n",
    "    num_items = int(input(\"\\nHow many different items would you like to order? \"))\n",
    "\n",
    "    # Collect details for each item in the order\n",
    "    for _ in range(num_items):\n",
    "        item = input(\"\\nEnter item name from the menu: \")\n",
    "        if item not in menu:\n",
    "            print(\"Invalid item. Please select from the menu.\")\n",
    "            continue\n",
    "        \n",
    "        quantity = int(input(f\"Enter quantity for {item}: \"))\n",
    "        price_per_unit = menu[item]\n",
    "        \n",
    "        # Add the item and quantity to the order list\n",
    "        order.append((item, quantity, price_per_unit))\n",
    "\n",
    "    # Generate the bill for the entire order\n",
    "    generate_bill(order, restaurant_name, restaurant_address)"
   ]
  },
  {
   "cell_type": "code",
   "execution_count": null,
   "id": "9c7f4e72-cf20-4630-9ee1-a41d031bfde7",
   "metadata": {},
   "outputs": [],
   "source": []
  }
 ],
 "metadata": {
  "kernelspec": {
   "display_name": "Python 3 (ipykernel)",
   "language": "python",
   "name": "python3"
  },
  "language_info": {
   "codemirror_mode": {
    "name": "ipython",
    "version": 3
   },
   "file_extension": ".py",
   "mimetype": "text/x-python",
   "name": "python",
   "nbconvert_exporter": "python",
   "pygments_lexer": "ipython3",
   "version": "3.11.7"
  }
 },
 "nbformat": 4,
 "nbformat_minor": 5
}
